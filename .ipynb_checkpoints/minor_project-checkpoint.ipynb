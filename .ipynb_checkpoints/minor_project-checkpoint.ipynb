{
 "cells": [
  {
   "cell_type": "code",
   "execution_count": 3,
   "metadata": {
    "collapsed": true
   },
   "outputs": [],
   "source": [
    "import pandas as pd\n",
    "import numpy as np\n",
    "import matplotlib.pyplot as pp\n",
    "import sklearn.linear_model"
   ]
  },
  {
   "cell_type": "code",
   "execution_count": 4,
   "metadata": {
    "collapsed": false,
    "scrolled": true
   },
   "outputs": [
    {
     "data": {
      "text/plain": [
       "(47, 47)"
      ]
     },
     "execution_count": 4,
     "metadata": {},
     "output_type": "execute_result"
    }
   ],
   "source": [
    "#loading every data and adding crop name and removing seed if there\n",
    "#1-banana\n",
    "data=pd.read_excel(\"data_folder/banana.xls\")\n",
    "data['Crop']='banana'\n",
    "data_total=data.copy()\n",
    "len(data),len(data_total)\n"
   ]
  },
  {
   "cell_type": "code",
   "execution_count": 5,
   "metadata": {
    "collapsed": false
   },
   "outputs": [
    {
     "data": {
      "text/plain": [
       "(47, 94)"
      ]
     },
     "execution_count": 5,
     "metadata": {},
     "output_type": "execute_result"
    }
   ],
   "source": [
    "#2-barley\n",
    "data=pd.read_excel('data_folder/ginger.xls')\n",
    "#data=data.drop(['Seed - tonnes'],axis=1)\n",
    "data['Crop']='ginger'\n",
    "data_total=pd.concat([data_total,data],axis=0)\n",
    "len(data),len(data_total)\n",
    "#data.head()"
   ]
  },
  {
   "cell_type": "code",
   "execution_count": 6,
   "metadata": {
    "collapsed": false
   },
   "outputs": [
    {
     "data": {
      "text/plain": [
       "(47, 141)"
      ]
     },
     "execution_count": 6,
     "metadata": {},
     "output_type": "execute_result"
    }
   ],
   "source": [
    "#3-ginger\n",
    "data=pd.read_excel('data_folder/barley.xls')\n",
    "data=data.drop(['Seed - tonnes'],axis=1)\n",
    "data['Crop']='barley'\n",
    "data_total=pd.concat([data_total,data],axis=0)\n",
    "len(data),len(data_total)"
   ]
  },
  {
   "cell_type": "code",
   "execution_count": 7,
   "metadata": {
    "collapsed": false
   },
   "outputs": [
    {
     "data": {
      "text/plain": [
       "(47, 188)"
      ]
     },
     "execution_count": 7,
     "metadata": {},
     "output_type": "execute_result"
    }
   ],
   "source": [
    "#4-papaya\n",
    "data=pd.read_excel('data_folder/papaya.xls')\n",
    "#data=data.drop(['Seed - tonnes'],axis=1)\n",
    "data['Crop']='papaya'\n",
    "data_total=pd.concat([data_total,data],axis=0)\n",
    "len(data),len(data_total)\n",
    "#data\n",
    "\n",
    "#len(data_total)"
   ]
  },
  {
   "cell_type": "code",
   "execution_count": 8,
   "metadata": {
    "collapsed": false
   },
   "outputs": [
    {
     "data": {
      "text/plain": [
       "(47, 235)"
      ]
     },
     "execution_count": 8,
     "metadata": {},
     "output_type": "execute_result"
    }
   ],
   "source": [
    "#5-grape\n",
    "data=pd.read_excel('data_folder/grape.xls')\n",
    "#data=data.drop(['Seed - tonnes'],axis=1)\n",
    "data['Crop']='grape'\n",
    "len(data)\n",
    "#data\n",
    "data_total=pd.concat([data_total,data],axis=0)\n",
    "data_total\n",
    "len(data),len(data_total)"
   ]
  },
  {
   "cell_type": "code",
   "execution_count": 9,
   "metadata": {
    "collapsed": false
   },
   "outputs": [
    {
     "data": {
      "text/plain": [
       "(47, 282)"
      ]
     },
     "execution_count": 9,
     "metadata": {},
     "output_type": "execute_result"
    }
   ],
   "source": [
    "#6-green pea\n",
    "data=pd.read_excel('data_folder/green_pea.xls')\n",
    "#data=data.drop(['Seed - tonnes'],axis=1)\n",
    "data['Crop']='green_pea'\n",
    "len(data)\n",
    "#data\n",
    "data_total=pd.concat([data_total,data],axis=0)\n",
    "data_total\n",
    "len(data),len(data_total)"
   ]
  },
  {
   "cell_type": "code",
   "execution_count": 10,
   "metadata": {
    "collapsed": false
   },
   "outputs": [
    {
     "data": {
      "text/html": [
       "<div>\n",
       "<table border=\"1\" class=\"dataframe\">\n",
       "  <thead>\n",
       "    <tr style=\"text-align: right;\">\n",
       "      <th></th>\n",
       "      <th>Date</th>\n",
       "      <th>Area Harvested - Ha</th>\n",
       "      <th>Yield - Hg/Ha</th>\n",
       "      <th>Production Quantity - tonnes</th>\n",
       "      <th>Crop</th>\n",
       "    </tr>\n",
       "  </thead>\n",
       "  <tbody>\n",
       "    <tr>\n",
       "      <th>0</th>\n",
       "      <td>2007-12-31</td>\n",
       "      <td>622200</td>\n",
       "      <td>349829</td>\n",
       "      <td>21766400</td>\n",
       "      <td>banana</td>\n",
       "    </tr>\n",
       "    <tr>\n",
       "      <th>1</th>\n",
       "      <td>2006-12-31</td>\n",
       "      <td>600300</td>\n",
       "      <td>347456</td>\n",
       "      <td>20857800</td>\n",
       "      <td>banana</td>\n",
       "    </tr>\n",
       "    <tr>\n",
       "      <th>2</th>\n",
       "      <td>2005-12-31</td>\n",
       "      <td>565100</td>\n",
       "      <td>330948</td>\n",
       "      <td>18701900</td>\n",
       "      <td>banana</td>\n",
       "    </tr>\n",
       "    <tr>\n",
       "      <th>3</th>\n",
       "      <td>2004-12-31</td>\n",
       "      <td>535000</td>\n",
       "      <td>305203</td>\n",
       "      <td>16328400</td>\n",
       "      <td>banana</td>\n",
       "    </tr>\n",
       "    <tr>\n",
       "      <th>4</th>\n",
       "      <td>2003-12-31</td>\n",
       "      <td>498600</td>\n",
       "      <td>277910</td>\n",
       "      <td>13856600</td>\n",
       "      <td>banana</td>\n",
       "    </tr>\n",
       "  </tbody>\n",
       "</table>\n",
       "</div>"
      ],
      "text/plain": [
       "        Date  Area Harvested - Ha  Yield - Hg/Ha  \\\n",
       "0 2007-12-31               622200         349829   \n",
       "1 2006-12-31               600300         347456   \n",
       "2 2005-12-31               565100         330948   \n",
       "3 2004-12-31               535000         305203   \n",
       "4 2003-12-31               498600         277910   \n",
       "\n",
       "   Production Quantity - tonnes    Crop  \n",
       "0                      21766400  banana  \n",
       "1                      20857800  banana  \n",
       "2                      18701900  banana  \n",
       "3                      16328400  banana  \n",
       "4                      13856600  banana  "
      ]
     },
     "execution_count": 10,
     "metadata": {},
     "output_type": "execute_result"
    }
   ],
   "source": [
    "#7-pinnaple\n",
    "data=pd.read_excel('data_folder/pineapple.xls')\n",
    "#data=data.drop(['Seed - tonnes'],axis=1)\n",
    "data['Crop']='pineapple'\n",
    "len(data)\n",
    "#data\n",
    "data_total=pd.concat([data_total,data],axis=0)\n",
    "data_total\n",
    "len(data),len(data_total)\n",
    "data_total.head()"
   ]
  },
  {
   "cell_type": "code",
   "execution_count": 11,
   "metadata": {
    "collapsed": false
   },
   "outputs": [
    {
     "data": {
      "text/html": [
       "<div>\n",
       "<table border=\"1\" class=\"dataframe\">\n",
       "  <thead>\n",
       "    <tr style=\"text-align: right;\">\n",
       "      <th></th>\n",
       "      <th>Date</th>\n",
       "      <th>Area Harvested - Ha</th>\n",
       "      <th>Yield - Hg/Ha</th>\n",
       "      <th>Production Quantity - tonnes</th>\n",
       "      <th>Crop</th>\n",
       "    </tr>\n",
       "  </thead>\n",
       "  <tbody>\n",
       "    <tr>\n",
       "      <th>0</th>\n",
       "      <td>2007-12-31</td>\n",
       "      <td>622200</td>\n",
       "      <td>349829</td>\n",
       "      <td>21766400</td>\n",
       "      <td>banana</td>\n",
       "    </tr>\n",
       "    <tr>\n",
       "      <th>1</th>\n",
       "      <td>2006-12-31</td>\n",
       "      <td>600300</td>\n",
       "      <td>347456</td>\n",
       "      <td>20857800</td>\n",
       "      <td>banana</td>\n",
       "    </tr>\n",
       "    <tr>\n",
       "      <th>2</th>\n",
       "      <td>2005-12-31</td>\n",
       "      <td>565100</td>\n",
       "      <td>330948</td>\n",
       "      <td>18701900</td>\n",
       "      <td>banana</td>\n",
       "    </tr>\n",
       "    <tr>\n",
       "      <th>3</th>\n",
       "      <td>2004-12-31</td>\n",
       "      <td>535000</td>\n",
       "      <td>305203</td>\n",
       "      <td>16328400</td>\n",
       "      <td>banana</td>\n",
       "    </tr>\n",
       "    <tr>\n",
       "      <th>4</th>\n",
       "      <td>2003-12-31</td>\n",
       "      <td>498600</td>\n",
       "      <td>277910</td>\n",
       "      <td>13856600</td>\n",
       "      <td>banana</td>\n",
       "    </tr>\n",
       "  </tbody>\n",
       "</table>\n",
       "</div>"
      ],
      "text/plain": [
       "        Date  Area Harvested - Ha  Yield - Hg/Ha  \\\n",
       "0 2007-12-31               622200         349829   \n",
       "1 2006-12-31               600300         347456   \n",
       "2 2005-12-31               565100         330948   \n",
       "3 2004-12-31               535000         305203   \n",
       "4 2003-12-31               498600         277910   \n",
       "\n",
       "   Production Quantity - tonnes    Crop  \n",
       "0                      21766400  banana  \n",
       "1                      20857800  banana  \n",
       "2                      18701900  banana  \n",
       "3                      16328400  banana  \n",
       "4                      13856600  banana  "
      ]
     },
     "execution_count": 11,
     "metadata": {},
     "output_type": "execute_result"
    }
   ],
   "source": [
    "#8-potato\n",
    "data=pd.read_excel('data_folder/potato.xls')\n",
    "data=data.drop(['Seed - tonnes'],axis=1)\n",
    "data['Crop']='potato'\n",
    "len(data)\n",
    "#data\n",
    "data_total=pd.concat([data_total,data],axis=0)\n",
    "data_total\n",
    "len(data),len(data_total)\n",
    "data_total.head()"
   ]
  },
  {
   "cell_type": "code",
   "execution_count": 12,
   "metadata": {
    "collapsed": false
   },
   "outputs": [
    {
     "data": {
      "text/html": [
       "<div>\n",
       "<table border=\"1\" class=\"dataframe\">\n",
       "  <thead>\n",
       "    <tr style=\"text-align: right;\">\n",
       "      <th></th>\n",
       "      <th>Date</th>\n",
       "      <th>Area Harvested - Ha</th>\n",
       "      <th>Yield - Hg/Ha</th>\n",
       "      <th>Production Quantity - tonnes</th>\n",
       "      <th>Crop</th>\n",
       "    </tr>\n",
       "  </thead>\n",
       "  <tbody>\n",
       "    <tr>\n",
       "      <th>0</th>\n",
       "      <td>2007-12-31</td>\n",
       "      <td>622200</td>\n",
       "      <td>349829</td>\n",
       "      <td>21766400</td>\n",
       "      <td>banana</td>\n",
       "    </tr>\n",
       "    <tr>\n",
       "      <th>1</th>\n",
       "      <td>2006-12-31</td>\n",
       "      <td>600300</td>\n",
       "      <td>347456</td>\n",
       "      <td>20857800</td>\n",
       "      <td>banana</td>\n",
       "    </tr>\n",
       "    <tr>\n",
       "      <th>2</th>\n",
       "      <td>2005-12-31</td>\n",
       "      <td>565100</td>\n",
       "      <td>330948</td>\n",
       "      <td>18701900</td>\n",
       "      <td>banana</td>\n",
       "    </tr>\n",
       "    <tr>\n",
       "      <th>3</th>\n",
       "      <td>2004-12-31</td>\n",
       "      <td>535000</td>\n",
       "      <td>305203</td>\n",
       "      <td>16328400</td>\n",
       "      <td>banana</td>\n",
       "    </tr>\n",
       "    <tr>\n",
       "      <th>4</th>\n",
       "      <td>2003-12-31</td>\n",
       "      <td>498600</td>\n",
       "      <td>277910</td>\n",
       "      <td>13856600</td>\n",
       "      <td>banana</td>\n",
       "    </tr>\n",
       "  </tbody>\n",
       "</table>\n",
       "</div>"
      ],
      "text/plain": [
       "        Date  Area Harvested - Ha  Yield - Hg/Ha  \\\n",
       "0 2007-12-31               622200         349829   \n",
       "1 2006-12-31               600300         347456   \n",
       "2 2005-12-31               565100         330948   \n",
       "3 2004-12-31               535000         305203   \n",
       "4 2003-12-31               498600         277910   \n",
       "\n",
       "   Production Quantity - tonnes    Crop  \n",
       "0                      21766400  banana  \n",
       "1                      20857800  banana  \n",
       "2                      18701900  banana  \n",
       "3                      16328400  banana  \n",
       "4                      13856600  banana  "
      ]
     },
     "execution_count": 12,
     "metadata": {},
     "output_type": "execute_result"
    }
   ],
   "source": [
    "#9-tomato\n",
    "data=pd.read_excel('data_folder/tomato.xls')\n",
    "#data=data.drop(['Seed - tonnes'],axis=1)\n",
    "data['Crop']='tomato'\n",
    "len(data)\n",
    "#data\n",
    "data_total=pd.concat([data_total,data],axis=0)\n",
    "data_total\n",
    "len(data),len(data_total)\n",
    "data_total.head()"
   ]
  },
  {
   "cell_type": "code",
   "execution_count": 13,
   "metadata": {
    "collapsed": false
   },
   "outputs": [
    {
     "data": {
      "text/plain": [
       "(47, 470)"
      ]
     },
     "execution_count": 13,
     "metadata": {},
     "output_type": "execute_result"
    }
   ],
   "source": [
    "#10-wheat\n",
    "data=pd.read_excel('data_folder/wheat.xls')\n",
    "data=data.drop(['Seed - tonnes'],axis=1)\n",
    "data['Crop']='wheat'\n",
    "len(data)\n",
    "#data\n",
    "data_total=pd.concat([data_total,data],axis=0)\n",
    "data_total\n",
    "len(data),len(data_total)\n",
    "#data_total.head()"
   ]
  },
  {
   "cell_type": "code",
   "execution_count": 14,
   "metadata": {
    "collapsed": false
   },
   "outputs": [
    {
     "data": {
      "text/plain": [
       "(47, 517)"
      ]
     },
     "execution_count": 14,
     "metadata": {},
     "output_type": "execute_result"
    }
   ],
   "source": [
    "#11-tea\n",
    "data=pd.read_excel('data_folder/tea.xls')\n",
    "#data=data.drop(['Seed - tonnes'],axis=1)\n",
    "data['Crop']='tea'\n",
    "len(data)\n",
    "#data\n",
    "data_total=pd.concat([data_total,data],axis=0)\n",
    "data_total\n",
    "len(data),len(data_total)\n",
    "#data_total.head()"
   ]
  },
  {
   "cell_type": "code",
   "execution_count": 15,
   "metadata": {
    "collapsed": false
   },
   "outputs": [
    {
     "data": {
      "text/plain": [
       "(47, 564)"
      ]
     },
     "execution_count": 15,
     "metadata": {},
     "output_type": "execute_result"
    }
   ],
   "source": [
    "#12-maize\n",
    "data=pd.read_excel('data_folder/maize.xls')\n",
    "data=data.drop(['Seed - tonnes'],axis=1)\n",
    "data['Crop']='maize'\n",
    "len(data)\n",
    "#data\n",
    "data_total=pd.concat([data_total,data],axis=0)\n",
    "data_total\n",
    "len(data),len(data_total)\n",
    "#data_total.head()"
   ]
  },
  {
   "cell_type": "code",
   "execution_count": 16,
   "metadata": {
    "collapsed": false
   },
   "outputs": [
    {
     "data": {
      "text/plain": [
       "(47, 611)"
      ]
     },
     "execution_count": 16,
     "metadata": {},
     "output_type": "execute_result"
    }
   ],
   "source": [
    "#13-rice\n",
    "data=pd.read_excel('data_folder/rice.xls')\n",
    "data=data.drop(['Seed - tonnes'],axis=1)\n",
    "data['Crop']='rice'\n",
    "len(data)\n",
    "#data\n",
    "data_total=pd.concat([data_total,data],axis=0)\n",
    "data_total\n",
    "len(data),len(data_total)\n",
    "#data_total.head()\n"
   ]
  },
  {
   "cell_type": "code",
   "execution_count": 17,
   "metadata": {
    "collapsed": false
   },
   "outputs": [
    {
     "data": {
      "text/plain": [
       "(47, 658)"
      ]
     },
     "execution_count": 17,
     "metadata": {},
     "output_type": "execute_result"
    }
   ],
   "source": [
    "#14-sugarcane\n",
    "data=pd.read_excel('data_folder/sugarcane.xls')\n",
    "data=data.drop(['Seed - tonnes'],axis=1)\n",
    "data['Crop']='sugarcane'\n",
    "len(data)\n",
    "#data\n",
    "data_total=pd.concat([data_total,data],axis=0)\n",
    "data_total\n",
    "len(data),len(data_total)\n",
    "#data_total.head()\n"
   ]
  },
  {
   "cell_type": "code",
   "execution_count": 20,
   "metadata": {
    "collapsed": false
   },
   "outputs": [
    {
     "data": {
      "text/html": [
       "<div>\n",
       "<table border=\"1\" class=\"dataframe\">\n",
       "  <thead>\n",
       "    <tr style=\"text-align: right;\">\n",
       "      <th></th>\n",
       "      <th>Area Harvested - Ha</th>\n",
       "      <th>Yield - Hg/Ha</th>\n",
       "      <th>Production Quantity - tonnes</th>\n",
       "      <th>Crop</th>\n",
       "    </tr>\n",
       "    <tr>\n",
       "      <th>Date</th>\n",
       "      <th></th>\n",
       "      <th></th>\n",
       "      <th></th>\n",
       "      <th></th>\n",
       "    </tr>\n",
       "  </thead>\n",
       "  <tbody>\n",
       "    <tr>\n",
       "      <th>2007-12-31</th>\n",
       "      <td>622200</td>\n",
       "      <td>349829</td>\n",
       "      <td>21766400</td>\n",
       "      <td>banana</td>\n",
       "    </tr>\n",
       "    <tr>\n",
       "      <th>2006-12-31</th>\n",
       "      <td>600300</td>\n",
       "      <td>347456</td>\n",
       "      <td>20857800</td>\n",
       "      <td>banana</td>\n",
       "    </tr>\n",
       "    <tr>\n",
       "      <th>2005-12-31</th>\n",
       "      <td>565100</td>\n",
       "      <td>330948</td>\n",
       "      <td>18701900</td>\n",
       "      <td>banana</td>\n",
       "    </tr>\n",
       "    <tr>\n",
       "      <th>2004-12-31</th>\n",
       "      <td>535000</td>\n",
       "      <td>305203</td>\n",
       "      <td>16328400</td>\n",
       "      <td>banana</td>\n",
       "    </tr>\n",
       "    <tr>\n",
       "      <th>2003-12-31</th>\n",
       "      <td>498600</td>\n",
       "      <td>277910</td>\n",
       "      <td>13856600</td>\n",
       "      <td>banana</td>\n",
       "    </tr>\n",
       "  </tbody>\n",
       "</table>\n",
       "</div>"
      ],
      "text/plain": [
       "            Area Harvested - Ha  Yield - Hg/Ha  Production Quantity - tonnes  \\\n",
       "Date                                                                           \n",
       "2007-12-31               622200         349829                      21766400   \n",
       "2006-12-31               600300         347456                      20857800   \n",
       "2005-12-31               565100         330948                      18701900   \n",
       "2004-12-31               535000         305203                      16328400   \n",
       "2003-12-31               498600         277910                      13856600   \n",
       "\n",
       "              Crop  \n",
       "Date                \n",
       "2007-12-31  banana  \n",
       "2006-12-31  banana  \n",
       "2005-12-31  banana  \n",
       "2004-12-31  banana  \n",
       "2003-12-31  banana  "
      ]
     },
     "execution_count": 20,
     "metadata": {},
     "output_type": "execute_result"
    }
   ],
   "source": [
    "data.head()"
   ]
  },
  {
   "cell_type": "code",
   "execution_count": null,
   "metadata": {
    "collapsed": true
   },
   "outputs": [],
   "source": []
  }
 ],
 "metadata": {
  "kernelspec": {
   "display_name": "Python 3",
   "language": "python",
   "name": "python3"
  },
  "language_info": {
   "codemirror_mode": {
    "name": "ipython",
    "version": 3
   },
   "file_extension": ".py",
   "mimetype": "text/x-python",
   "name": "python",
   "nbconvert_exporter": "python",
   "pygments_lexer": "ipython3",
   "version": "3.6.0"
  }
 },
 "nbformat": 4,
 "nbformat_minor": 2
}
