{
 "cells": [
  {
   "cell_type": "code",
   "execution_count": 270,
   "metadata": {
    "collapsed": false
   },
   "outputs": [],
   "source": [
    "import pandas as pd\n",
    "import numpy as np\n",
    "from sklearn.linear_model import LinearRegression\n",
    "import matplotlib.pyplot as pp\n",
    "from  sklearn import preprocessing\n",
    "#%matplotlib inline"
   ]
  },
  {
   "cell_type": "code",
   "execution_count": 271,
   "metadata": {
    "collapsed": false
   },
   "outputs": [
    {
     "data": {
      "text/html": [
       "<div>\n",
       "<table border=\"1\" class=\"dataframe\">\n",
       "  <thead>\n",
       "    <tr style=\"text-align: right;\">\n",
       "      <th></th>\n",
       "      <th>Crop</th>\n",
       "      <th>year</th>\n",
       "      <th>Area Harvested - Ha</th>\n",
       "      <th>Production Quantity - tonnes</th>\n",
       "      <th>Yield - Hg/Ha</th>\n",
       "    </tr>\n",
       "  </thead>\n",
       "  <tbody>\n",
       "    <tr>\n",
       "      <th>0</th>\n",
       "      <td>grape</td>\n",
       "      <td>1993</td>\n",
       "      <td>6000</td>\n",
       "      <td>1200000</td>\n",
       "      <td>18432</td>\n",
       "    </tr>\n",
       "    <tr>\n",
       "      <th>1</th>\n",
       "      <td>rice</td>\n",
       "      <td>1978</td>\n",
       "      <td>6300000</td>\n",
       "      <td>73352000</td>\n",
       "      <td>19623</td>\n",
       "    </tr>\n",
       "    <tr>\n",
       "      <th>2</th>\n",
       "      <td>barley</td>\n",
       "      <td>1985</td>\n",
       "      <td>70000</td>\n",
       "      <td>104225008</td>\n",
       "      <td>258628</td>\n",
       "    </tr>\n",
       "    <tr>\n",
       "      <th>3</th>\n",
       "      <td>tomato</td>\n",
       "      <td>1963</td>\n",
       "      <td>434000</td>\n",
       "      <td>24734608</td>\n",
       "      <td>343061</td>\n",
       "    </tr>\n",
       "    <tr>\n",
       "      <th>4</th>\n",
       "      <td>pineapple</td>\n",
       "      <td>1998</td>\n",
       "      <td>12572000</td>\n",
       "      <td>246806</td>\n",
       "      <td>137248</td>\n",
       "    </tr>\n",
       "  </tbody>\n",
       "</table>\n",
       "</div>"
      ],
      "text/plain": [
       "        Crop  year  Area Harvested - Ha  Production Quantity - tonnes  \\\n",
       "0      grape  1993                 6000                       1200000   \n",
       "1       rice  1978              6300000                      73352000   \n",
       "2     barley  1985                70000                     104225008   \n",
       "3     tomato  1963               434000                      24734608   \n",
       "4  pineapple  1998             12572000                        246806   \n",
       "\n",
       "   Yield - Hg/Ha  \n",
       "0          18432  \n",
       "1          19623  \n",
       "2         258628  \n",
       "3         343061  \n",
       "4         137248  "
      ]
     },
     "execution_count": 271,
     "metadata": {},
     "output_type": "execute_result"
    }
   ],
   "source": [
    "#loading data\n",
    "data=pd.read_excel('data_complete_shuffled.xls')\n",
    "data.head()"
   ]
  },
  {
   "cell_type": "code",
   "execution_count": 272,
   "metadata": {
    "collapsed": false
   },
   "outputs": [
    {
     "data": {
      "text/html": [
       "<div>\n",
       "<table border=\"1\" class=\"dataframe\">\n",
       "  <thead>\n",
       "    <tr style=\"text-align: right;\">\n",
       "      <th></th>\n",
       "      <th>year</th>\n",
       "      <th>Area Harvested - Ha</th>\n",
       "      <th>Yield - Hg/Ha</th>\n",
       "    </tr>\n",
       "  </thead>\n",
       "  <tbody>\n",
       "    <tr>\n",
       "      <th>542</th>\n",
       "      <td>2002</td>\n",
       "      <td>230000</td>\n",
       "      <td>19377</td>\n",
       "    </tr>\n",
       "    <tr>\n",
       "      <th>491</th>\n",
       "      <td>2003</td>\n",
       "      <td>70000</td>\n",
       "      <td>27131</td>\n",
       "    </tr>\n",
       "    <tr>\n",
       "      <th>609</th>\n",
       "      <td>2004</td>\n",
       "      <td>35474</td>\n",
       "      <td>136787</td>\n",
       "    </tr>\n",
       "    <tr>\n",
       "      <th>389</th>\n",
       "      <td>2004</td>\n",
       "      <td>1221900</td>\n",
       "      <td>9954</td>\n",
       "    </tr>\n",
       "    <tr>\n",
       "      <th>96</th>\n",
       "      <td>2007</td>\n",
       "      <td>190000</td>\n",
       "      <td>669281</td>\n",
       "    </tr>\n",
       "  </tbody>\n",
       "</table>\n",
       "</div>"
      ],
      "text/plain": [
       "     year  Area Harvested - Ha  Yield - Hg/Ha\n",
       "542  2002               230000          19377\n",
       "491  2003                70000          27131\n",
       "609  2004                35474         136787\n",
       "389  2004              1221900           9954\n",
       "96   2007               190000         669281"
      ]
     },
     "execution_count": 272,
     "metadata": {},
     "output_type": "execute_result"
    }
   ],
   "source": [
    "#prediction will be done according to different crops as one will not \n",
    "#depend on other and hence distort the graph for others.\n",
    "crop_name='banana' #let, this variable will be used always\n",
    "#filter data according to crop_name\n",
    "data=data.loc[data['Crop']==crop_name]\n",
    "#now sorted so that we could only take last 10 years to predict next\n",
    "data=data.sort_values(by='year',ascending=True).drop('Crop',axis=1).drop('Production Quantity - tonnes',axis=1)\n",
    "data.tail()"
   ]
  },
  {
   "cell_type": "code",
   "execution_count": null,
   "metadata": {
    "collapsed": true
   },
   "outputs": [],
   "source": [
    "#NOT NEEDED as we have filtered above according to crop and removed 'Crop' column\n",
    "\n",
    "# #creating labelEncoder\n",
    "# encoder=preprocessing.LabelEncoder()#creating object\n",
    "# encoder.fit(data['Crop'])#fitting 'string labels' with encode as integers\n",
    "# #transform - convert string to number, inverse_transform -convert number to string\n",
    "# X['crop']=encoder.transform(data['Crop'])\n",
    "# #encoder.inverse_transform(0)\n",
    "# #removing the X['Crop'] column\n",
    "# X.drop(inplace=True,axis=1,labels='Crop')\n"
   ]
  },
  {
   "cell_type": "code",
   "execution_count": null,
   "metadata": {
    "collapsed": true
   },
   "outputs": [],
   "source": []
  },
  {
   "cell_type": "code",
   "execution_count": 277,
   "metadata": {
    "collapsed": false,
    "scrolled": false
   },
   "outputs": [
    {
     "data": {
      "text/html": [
       "<div>\n",
       "<table border=\"1\" class=\"dataframe\">\n",
       "  <thead>\n",
       "    <tr style=\"text-align: right;\">\n",
       "      <th></th>\n",
       "      <th>year</th>\n",
       "      <th>Area Harvested - Ha</th>\n",
       "    </tr>\n",
       "  </thead>\n",
       "  <tbody>\n",
       "    <tr>\n",
       "      <th>542</th>\n",
       "      <td>2002</td>\n",
       "      <td>230000</td>\n",
       "    </tr>\n",
       "    <tr>\n",
       "      <th>491</th>\n",
       "      <td>2003</td>\n",
       "      <td>70000</td>\n",
       "    </tr>\n",
       "    <tr>\n",
       "      <th>609</th>\n",
       "      <td>2004</td>\n",
       "      <td>35474</td>\n",
       "    </tr>\n",
       "    <tr>\n",
       "      <th>389</th>\n",
       "      <td>2004</td>\n",
       "      <td>1221900</td>\n",
       "    </tr>\n",
       "    <tr>\n",
       "      <th>96</th>\n",
       "      <td>2007</td>\n",
       "      <td>190000</td>\n",
       "    </tr>\n",
       "  </tbody>\n",
       "</table>\n",
       "</div>"
      ],
      "text/plain": [
       "     year  Area Harvested - Ha\n",
       "542  2002               230000\n",
       "491  2003                70000\n",
       "609  2004                35474\n",
       "389  2004              1221900\n",
       "96   2007               190000"
      ]
     },
     "execution_count": 277,
     "metadata": {},
     "output_type": "execute_result"
    }
   ],
   "source": [
    "\n",
    "X,y=data.iloc[:,0:-1],data.iloc[:,-1:]\n",
    "X.tail()# all columns other than last\n",
    "#y.tail()#only last column, Yeild"
   ]
  },
  {
   "cell_type": "code",
   "execution_count": 284,
   "metadata": {
    "collapsed": true
   },
   "outputs": [],
   "source": [
    "X=X[-10:]\n",
    "y=y[-10:]#last 10"
   ]
  },
  {
   "cell_type": "code",
   "execution_count": 286,
   "metadata": {
    "collapsed": false
   },
   "outputs": [
    {
     "data": {
      "text/plain": [
       "LinearRegression(copy_X=True, fit_intercept=True, n_jobs=1, normalize=False)"
      ]
     },
     "execution_count": 286,
     "metadata": {},
     "output_type": "execute_result"
    }
   ],
   "source": [
    "\"\"\"\n",
    "as fit() method can't use 'string' and out \"Crop\" column has string so we have to transform into intergers\n",
    "method 1 - find number of classes and assign unique id manually\n",
    "method 2 - let python do that for us ,using 'labelEncoder' class\n",
    "\"\"\"\n",
    "model.fit(X,y)"
   ]
  },
  {
   "cell_type": "code",
   "execution_count": null,
   "metadata": {
    "collapsed": false,
    "scrolled": true
   },
   "outputs": [],
   "source": []
  },
  {
   "cell_type": "code",
   "execution_count": 288,
   "metadata": {
    "collapsed": false
   },
   "outputs": [
    {
     "data": {
      "text/plain": [
       "LinearRegression(copy_X=True, fit_intercept=True, n_jobs=1, normalize=False)"
      ]
     },
     "execution_count": 288,
     "metadata": {},
     "output_type": "execute_result"
    }
   ],
   "source": [
    "model.fit(X[::2],y[::2])"
   ]
  },
  {
   "cell_type": "code",
   "execution_count": 290,
   "metadata": {
    "collapsed": false
   },
   "outputs": [
    {
     "data": {
      "text/plain": [
       "-2.6164017989666579"
      ]
     },
     "execution_count": 290,
     "metadata": {},
     "output_type": "execute_result"
    }
   ],
   "source": [
    "model.score(X[:],y[:])"
   ]
  },
  {
   "cell_type": "code",
   "execution_count": 287,
   "metadata": {
    "collapsed": false
   },
   "outputs": [
    {
     "data": {
      "text/plain": [
       "[<matplotlib.lines.Line2D at 0x7fc12f191eb8>]"
      ]
     },
     "execution_count": 287,
     "metadata": {},
     "output_type": "execute_result"
    },
    {
     "data": {
      "image/png": "[encoded data removed]",
      "text/plain": [
       "<matplotlib.figure.Figure at 0x7fc12f2a0ba8>"
      ]
     },
     "metadata": {},
     "output_type": "display_data"
    }
   ],
   "source": [
    "pp.plot(X['year'][-10:],y[-10:])"
   ]
  },
  {
   "cell_type": "code",
   "execution_count": 254,
   "metadata": {
    "collapsed": false
   },
   "outputs": [
    {
     "data": {
      "text/html": [
       "<div>\n",
       "<table border=\"1\" class=\"dataframe\">\n",
       "  <thead>\n",
       "    <tr style=\"text-align: right;\">\n",
       "      <th></th>\n",
       "      <th>Crop</th>\n",
       "      <th>year</th>\n",
       "      <th>Area Harvested - Ha</th>\n",
       "      <th>Production Quantity - tonnes</th>\n",
       "      <th>Yield - Hg/Ha</th>\n",
       "    </tr>\n",
       "  </thead>\n",
       "  <tbody>\n",
       "    <tr>\n",
       "      <th>0</th>\n",
       "      <td>grape</td>\n",
       "      <td>1993</td>\n",
       "      <td>6000</td>\n",
       "      <td>1200000</td>\n",
       "      <td>18432</td>\n",
       "    </tr>\n",
       "    <tr>\n",
       "      <th>1</th>\n",
       "      <td>rice</td>\n",
       "      <td>1978</td>\n",
       "      <td>6300000</td>\n",
       "      <td>73352000</td>\n",
       "      <td>19623</td>\n",
       "    </tr>\n",
       "    <tr>\n",
       "      <th>2</th>\n",
       "      <td>barley</td>\n",
       "      <td>1985</td>\n",
       "      <td>70000</td>\n",
       "      <td>104225008</td>\n",
       "      <td>258628</td>\n",
       "    </tr>\n",
       "    <tr>\n",
       "      <th>3</th>\n",
       "      <td>tomato</td>\n",
       "      <td>1963</td>\n",
       "      <td>434000</td>\n",
       "      <td>24734608</td>\n",
       "      <td>343061</td>\n",
       "    </tr>\n",
       "    <tr>\n",
       "      <th>4</th>\n",
       "      <td>pineapple</td>\n",
       "      <td>1998</td>\n",
       "      <td>12572000</td>\n",
       "      <td>246806</td>\n",
       "      <td>137248</td>\n",
       "    </tr>\n",
       "  </tbody>\n",
       "</table>\n",
       "</div>"
      ],
      "text/plain": [
       "        Crop  year  Area Harvested - Ha  Production Quantity - tonnes  \\\n",
       "0      grape  1993                 6000                       1200000   \n",
       "1       rice  1978              6300000                      73352000   \n",
       "2     barley  1985                70000                     104225008   \n",
       "3     tomato  1963               434000                      24734608   \n",
       "4  pineapple  1998             12572000                        246806   \n",
       "\n",
       "   Yield - Hg/Ha  \n",
       "0          18432  \n",
       "1          19623  \n",
       "2         258628  \n",
       "3         343061  \n",
       "4         137248  "
      ]
     },
     "execution_count": 254,
     "metadata": {},
     "output_type": "execute_result"
    }
   ],
   "source": [
    "data.head()"
   ]
  },
  {
   "cell_type": "code",
   "execution_count": 211,
   "metadata": {
    "collapsed": false
   },
   "outputs": [],
   "source": [
    "l=data.loc[data['Crop']=='tea'][['year','Yield - Hg/Ha']]"
   ]
  },
  {
   "cell_type": "code",
   "execution_count": 230,
   "metadata": {
    "collapsed": false
   },
   "outputs": [
    {
     "data": {
      "text/html": [
       "<div>\n",
       "<table border=\"1\" class=\"dataframe\">\n",
       "  <thead>\n",
       "    <tr style=\"text-align: right;\">\n",
       "      <th></th>\n",
       "      <th>year</th>\n",
       "      <th>Yield - Hg/Ha</th>\n",
       "    </tr>\n",
       "  </thead>\n",
       "  <tbody>\n",
       "    <tr>\n",
       "      <th>477</th>\n",
       "      <td>1962</td>\n",
       "      <td>15086</td>\n",
       "    </tr>\n",
       "    <tr>\n",
       "      <th>575</th>\n",
       "      <td>1963</td>\n",
       "      <td>155739</td>\n",
       "    </tr>\n",
       "    <tr>\n",
       "      <th>639</th>\n",
       "      <td>1964</td>\n",
       "      <td>193671</td>\n",
       "    </tr>\n",
       "    <tr>\n",
       "      <th>245</th>\n",
       "      <td>1964</td>\n",
       "      <td>665203</td>\n",
       "    </tr>\n",
       "    <tr>\n",
       "      <th>526</th>\n",
       "      <td>1965</td>\n",
       "      <td>150160</td>\n",
       "    </tr>\n",
       "    <tr>\n",
       "      <th>475</th>\n",
       "      <td>1966</td>\n",
       "      <td>11392</td>\n",
       "    </tr>\n",
       "    <tr>\n",
       "      <th>516</th>\n",
       "      <td>1969</td>\n",
       "      <td>93396</td>\n",
       "    </tr>\n",
       "    <tr>\n",
       "      <th>336</th>\n",
       "      <td>1970</td>\n",
       "      <td>93283</td>\n",
       "    </tr>\n",
       "    <tr>\n",
       "      <th>632</th>\n",
       "      <td>1971</td>\n",
       "      <td>104901</td>\n",
       "    </tr>\n",
       "    <tr>\n",
       "      <th>371</th>\n",
       "      <td>1972</td>\n",
       "      <td>161607</td>\n",
       "    </tr>\n",
       "    <tr>\n",
       "      <th>172</th>\n",
       "      <td>1973</td>\n",
       "      <td>11621</td>\n",
       "    </tr>\n",
       "    <tr>\n",
       "      <th>82</th>\n",
       "      <td>1976</td>\n",
       "      <td>92727</td>\n",
       "    </tr>\n",
       "    <tr>\n",
       "      <th>539</th>\n",
       "      <td>1976</td>\n",
       "      <td>17676</td>\n",
       "    </tr>\n",
       "    <tr>\n",
       "      <th>546</th>\n",
       "      <td>1978</td>\n",
       "      <td>132500</td>\n",
       "    </tr>\n",
       "    <tr>\n",
       "      <th>567</th>\n",
       "      <td>1981</td>\n",
       "      <td>127857</td>\n",
       "    </tr>\n",
       "    <tr>\n",
       "      <th>350</th>\n",
       "      <td>1982</td>\n",
       "      <td>25832</td>\n",
       "    </tr>\n",
       "    <tr>\n",
       "      <th>210</th>\n",
       "      <td>1982</td>\n",
       "      <td>162173</td>\n",
       "    </tr>\n",
       "    <tr>\n",
       "      <th>150</th>\n",
       "      <td>1982</td>\n",
       "      <td>166100</td>\n",
       "    </tr>\n",
       "    <tr>\n",
       "      <th>122</th>\n",
       "      <td>1983</td>\n",
       "      <td>96428</td>\n",
       "    </tr>\n",
       "    <tr>\n",
       "      <th>58</th>\n",
       "      <td>1984</td>\n",
       "      <td>111711</td>\n",
       "    </tr>\n",
       "    <tr>\n",
       "      <th>260</th>\n",
       "      <td>1986</td>\n",
       "      <td>105140</td>\n",
       "    </tr>\n",
       "    <tr>\n",
       "      <th>447</th>\n",
       "      <td>1986</td>\n",
       "      <td>101298</td>\n",
       "    </tr>\n",
       "    <tr>\n",
       "      <th>248</th>\n",
       "      <td>1988</td>\n",
       "      <td>491353</td>\n",
       "    </tr>\n",
       "    <tr>\n",
       "      <th>18</th>\n",
       "      <td>1988</td>\n",
       "      <td>146335</td>\n",
       "    </tr>\n",
       "    <tr>\n",
       "      <th>627</th>\n",
       "      <td>1989</td>\n",
       "      <td>15078</td>\n",
       "    </tr>\n",
       "    <tr>\n",
       "      <th>304</th>\n",
       "      <td>1990</td>\n",
       "      <td>725551</td>\n",
       "    </tr>\n",
       "    <tr>\n",
       "      <th>380</th>\n",
       "      <td>1991</td>\n",
       "      <td>17109</td>\n",
       "    </tr>\n",
       "    <tr>\n",
       "      <th>209</th>\n",
       "      <td>1991</td>\n",
       "      <td>638739</td>\n",
       "    </tr>\n",
       "    <tr>\n",
       "      <th>448</th>\n",
       "      <td>1992</td>\n",
       "      <td>108695</td>\n",
       "    </tr>\n",
       "    <tr>\n",
       "      <th>40</th>\n",
       "      <td>1993</td>\n",
       "      <td>576727</td>\n",
       "    </tr>\n",
       "    <tr>\n",
       "      <th>6</th>\n",
       "      <td>1993</td>\n",
       "      <td>81301</td>\n",
       "    </tr>\n",
       "    <tr>\n",
       "      <th>598</th>\n",
       "      <td>1994</td>\n",
       "      <td>137249</td>\n",
       "    </tr>\n",
       "    <tr>\n",
       "      <th>110</th>\n",
       "      <td>1994</td>\n",
       "      <td>161290</td>\n",
       "    </tr>\n",
       "    <tr>\n",
       "      <th>507</th>\n",
       "      <td>1995</td>\n",
       "      <td>152896</td>\n",
       "    </tr>\n",
       "    <tr>\n",
       "      <th>54</th>\n",
       "      <td>1995</td>\n",
       "      <td>11460</td>\n",
       "    </tr>\n",
       "    <tr>\n",
       "      <th>381</th>\n",
       "      <td>1996</td>\n",
       "      <td>27080</td>\n",
       "    </tr>\n",
       "    <tr>\n",
       "      <th>221</th>\n",
       "      <td>1997</td>\n",
       "      <td>685765</td>\n",
       "    </tr>\n",
       "    <tr>\n",
       "      <th>113</th>\n",
       "      <td>1997</td>\n",
       "      <td>29782</td>\n",
       "    </tr>\n",
       "    <tr>\n",
       "      <th>302</th>\n",
       "      <td>1998</td>\n",
       "      <td>17111</td>\n",
       "    </tr>\n",
       "    <tr>\n",
       "      <th>382</th>\n",
       "      <td>2000</td>\n",
       "      <td>89457</td>\n",
       "    </tr>\n",
       "    <tr>\n",
       "      <th>106</th>\n",
       "      <td>2000</td>\n",
       "      <td>261805</td>\n",
       "    </tr>\n",
       "    <tr>\n",
       "      <th>35</th>\n",
       "      <td>2000</td>\n",
       "      <td>131620</td>\n",
       "    </tr>\n",
       "    <tr>\n",
       "      <th>511</th>\n",
       "      <td>2002</td>\n",
       "      <td>138054</td>\n",
       "    </tr>\n",
       "    <tr>\n",
       "      <th>5</th>\n",
       "      <td>2003</td>\n",
       "      <td>661458</td>\n",
       "    </tr>\n",
       "    <tr>\n",
       "      <th>142</th>\n",
       "      <td>2003</td>\n",
       "      <td>95238</td>\n",
       "    </tr>\n",
       "    <tr>\n",
       "      <th>134</th>\n",
       "      <td>2003</td>\n",
       "      <td>88571</td>\n",
       "    </tr>\n",
       "    <tr>\n",
       "      <th>140</th>\n",
       "      <td>2004</td>\n",
       "      <td>192059</td>\n",
       "    </tr>\n",
       "  </tbody>\n",
       "</table>\n",
       "</div>"
      ],
      "text/plain": [
       "     year  Yield - Hg/Ha\n",
       "477  1962          15086\n",
       "575  1963         155739\n",
       "639  1964         193671\n",
       "245  1964         665203\n",
       "526  1965         150160\n",
       "475  1966          11392\n",
       "516  1969          93396\n",
       "336  1970          93283\n",
       "632  1971         104901\n",
       "371  1972         161607\n",
       "172  1973          11621\n",
       "82   1976          92727\n",
       "539  1976          17676\n",
       "546  1978         132500\n",
       "567  1981         127857\n",
       "350  1982          25832\n",
       "210  1982         162173\n",
       "150  1982         166100\n",
       "122  1983          96428\n",
       "58   1984         111711\n",
       "260  1986         105140\n",
       "447  1986         101298\n",
       "248  1988         491353\n",
       "18   1988         146335\n",
       "627  1989          15078\n",
       "304  1990         725551\n",
       "380  1991          17109\n",
       "209  1991         638739\n",
       "448  1992         108695\n",
       "40   1993         576727\n",
       "6    1993          81301\n",
       "598  1994         137249\n",
       "110  1994         161290\n",
       "507  1995         152896\n",
       "54   1995          11460\n",
       "381  1996          27080\n",
       "221  1997         685765\n",
       "113  1997          29782\n",
       "302  1998          17111\n",
       "382  2000          89457\n",
       "106  2000         261805\n",
       "35   2000         131620\n",
       "511  2002         138054\n",
       "5    2003         661458\n",
       "142  2003          95238\n",
       "134  2003          88571\n",
       "140  2004         192059"
      ]
     },
     "execution_count": 230,
     "metadata": {},
     "output_type": "execute_result"
    }
   ],
   "source": [
    "l.sort_values(by='year',inplace=True)\n",
    "l"
   ]
  },
  {
   "cell_type": "code",
   "execution_count": 231,
   "metadata": {
    "collapsed": false
   },
   "outputs": [
    {
     "data": {
      "text/plain": [
       "[<matplotlib.lines.Line2D at 0x7fc12fd16940>]"
      ]
     },
     "execution_count": 231,
     "metadata": {},
     "output_type": "execute_result"
    },
    {
     "data": {
      "image/png": "[encoded data removed]",
      "text/plain": [
       "<matplotlib.figure.Figure at 0x7fc13c044a58>"
      ]
     },
     "metadata": {},
     "output_type": "display_data"
    }
   ],
   "source": [
    "pp.plot(l['year'],l['Yield - Hg/Ha'])"
   ]
  },
  {
   "cell_type": "code",
   "execution_count": 250,
   "metadata": {
    "collapsed": false
   },
   "outputs": [
    {
     "data": {
      "text/plain": [
       "<matplotlib.collections.PathCollection at 0x7fc12f314ef0>"
      ]
     },
     "execution_count": 250,
     "metadata": {},
     "output_type": "execute_result"
    },
    {
     "data": {
      "image/png": "[encoded data removed]",
      "text/plain": [
       "<matplotlib.figure.Figure at 0x7fc12f95fa20>"
      ]
     },
     "metadata": {},
     "output_type": "display_data"
    }
   ],
   "source": [
    "m=l.iloc[-10:]\n",
    "pp.scatter(m['year'],m['Yield - Hg/Ha'])"
   ]
  },
  {
   "cell_type": "code",
   "execution_count": null,
   "metadata": {
    "collapsed": false
   },
   "outputs": [],
   "source": []
  },
  {
   "cell_type": "code",
   "execution_count": null,
   "metadata": {
    "collapsed": true
   },
   "outputs": [],
   "source": []
  }
 ],
 "metadata": {
  "kernelspec": {
   "display_name": "Python 3",
   "language": "python",
   "name": "python3"
  },
  "language_info": {
   "codemirror_mode": {
    "name": "ipython",
    "version": 3
   },
   "file_extension": ".py",
   "mimetype": "text/x-python",
   "name": "python",
   "nbconvert_exporter": "python",
   "pygments_lexer": "ipython3",
   "version": "3.6.0"
  }
 },
 "nbformat": 4,
 "nbformat_minor": 2
}
